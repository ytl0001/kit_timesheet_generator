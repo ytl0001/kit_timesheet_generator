{
 "cells": [
  {
   "cell_type": "code",
   "execution_count": 1,
   "id": "7f471521-abb9-483a-a49f-4e2938386678",
   "metadata": {},
   "outputs": [],
   "source": [
    "import autom_timesheet"
   ]
  },
  {
   "cell_type": "code",
   "execution_count": 2,
   "id": "62210aef-ad95-4387-977b-9028e3685e30",
   "metadata": {},
   "outputs": [],
   "source": [
    "pdf_template = f\"timesheet_template.pdf\"\n",
    "csv_fname = \"example_workhours.csv\"\n",
    "\n",
    "year = 2022\n",
    "month = 10\n",
    "\n",
    "timestamp = f\"{year}_{month}\"\n",
    "output_fname = f\"timesheet_{timestamp}_output.pdf\"\n",
    "\n",
    "taetigkeiten = [\"coding\", # week 1\n",
    "                \"graphing\", # week 2\n",
    "                \"Testing\", # week 3\n",
    "                \"Testing\", # week 4\n",
    "                \"Testing\", # week 5\n",
    "                \"Testing\"] # week 6\n",
    "\n",
    "entries_dict = autom_timesheet.generate_entries(csv_fname, year, month, taetigkeiten)\n",
    "\n",
    "pre_data = {'abc': str(month), \n",
    "            'abdd': str(year), \n",
    "            'GF': 'Max Mustermann', # YOUR NAME\n",
    "            'Personalnummer': '-', \n",
    "            'OE': 'xxx KIT', # INSTITUTE NAME\n",
    "            'Std': '40', \n",
    "            'Stundensatz': '12,00',\n",
    "            'monatliche SollArbeitszeit': '40h',\n",
    "            'Urlaub anteilig': '0h 0m'}\n",
    "\n",
    "all_entries_dict = {**entries_dict, **pre_data}\n",
    "\n",
    "autom_timesheet.form_filler(pdf_template, all_entries_dict, output_fname)"
   ]
  }
 ],
 "metadata": {
  "kernelspec": {
   "display_name": "Python 3",
   "language": "python",
   "name": "python3"
  },
  "language_info": {
   "codemirror_mode": {
    "name": "ipython",
    "version": 3
   },
   "file_extension": ".py",
   "mimetype": "text/x-python",
   "name": "python",
   "nbconvert_exporter": "python",
   "pygments_lexer": "ipython3",
   "version": "3.8.8"
  }
 },
 "nbformat": 4,
 "nbformat_minor": 5
}
